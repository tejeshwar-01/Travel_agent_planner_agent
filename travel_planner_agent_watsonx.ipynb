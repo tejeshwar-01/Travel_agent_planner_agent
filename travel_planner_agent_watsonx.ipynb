{
 "cells": [
  {
   "cell_type": "markdown",
   "id": "feeb017a",
   "metadata": {},
   "source": [
    "# 🧳 Intelligent Travel Agent Planner using IBM Watsonx.ai"
   ]
  },
  {
   "cell_type": "code",
   "execution_count": null,
   "id": "4199d1a8",
   "metadata": {},
   "outputs": [],
   "source": [
    "## 🧳 Travel Planning Agent using IBM Watsonx.ai\n",
    "\n",
    "This notebook demonstrates an intelligent travel planner built using an LLM (Large Language Model) from IBM Watsonx.ai. It takes user inputs such as:\n",
    "- Destination\n",
    "- Travel dates\n",
    "- Budget\n",
    "- Preferences (adventure, culture, food, etc.)\n",
    "\n",
    "...and generates a custom travel itinerary using natural language reasoning.\n",
    "\n",
    "---\n",
    "\n",
    "## 🛡️ Security Notice\n",
    "\n",
    "Do **NOT** hardcode or share your API keys in this notebook. Make sure:\n",
    "- You use your **own IBM Watsonx credentials**\n",
    "- Keys are stored securely (e.g., in environment variables or `.env` files)\n",
    "\n",
    "---\n",
    "\n",
    "## 📜 License\n",
    "\n",
    "This project is licensed under the [MIT License](LICENSE).\n"
   ]
  },
  {
   "cell_type": "code",
   "execution_count": null,
   "id": "7292ead0",
   "metadata": {},
   "outputs": [],
   "source": [
    "# Install required libraries\n",
    "%pip install -U \"ibm_watsonx_ai>=1.1.14\" | tail -n 1\n",
    "%pip install pillow requests | tail -n 1"
   ]
  },
  {
   "cell_type": "code",
   "execution_count": null,
   "id": "6bee67a4",
   "metadata": {},
   "outputs": [],
   "source": [
    "# Imports\n",
    "import requests\n",
    "from PIL import Image\n",
    "from ibm_watsonx_ai import Credentials\n",
    "from ibm_watsonx_ai.foundation_models import ModelInference"
   ]
  },
  {
   "cell_type": "code",
   "execution_count": null,
   "id": "780183ee",
   "metadata": {},
   "outputs": [],
   "source": [
    "# Set credentials (replace with your actual API key and Project ID)\n",
    "WATSONX_EU_APIKEY = \"<your-api-key>\"\n",
    "WATSONX_EU_PROJECT_ID = \"<your-project-id>\"\n",
    "URL = \"https://eu-gb.ml.cloud.ibm.com\""
   ]
  },
  {
   "cell_type": "code",
   "execution_count": null,
   "id": "66d31622",
   "metadata": {},
   "outputs": [],
   "source": [
    "# Initialize Watsonx Credentials\n",
    "credentials = Credentials(\n",
    "    url=URL,\n",
    "    api_key=WATSONX_EU_APIKEY\n",
    ")"
   ]
  },
  {
   "cell_type": "code",
   "execution_count": null,
   "id": "02fba0f8",
   "metadata": {},
   "outputs": [],
   "source": [
    "# Initialize model inference\n",
    "model = ModelInference(\n",
    "    model_id=\"granite-13b-chat\",\n",
    "    credentials=credentials,\n",
    "    project_id=WATSONX_EU_PROJECT_ID\n",
    ")"
   ]
  },
  {
   "cell_type": "code",
   "execution_count": null,
   "id": "11a932dc",
   "metadata": {},
   "outputs": [],
   "source": [
    "# User input for travel planning\n",
    "# You can change these inputs as needed\n",
    "destination = \"Japan\"\n",
    "duration = 7\n",
    "interests = \"Culture, Technology, Nature, Food\"\n",
    "budget = 2500\n",
    "month = \"October\""
   ]
  },
  {
   "cell_type": "code",
   "execution_count": null,
   "id": "5f316d5d",
   "metadata": {},
   "outputs": [],
   "source": [
    "# Create a dynamic prompt for the agent\n",
    "travel_prompt = f'''\n",
    "You are an intelligent travel planning assistant.\n",
    "Based on the following user preferences, generate a full travel plan:\n",
    "\n",
    "- Destination: {destination}\n",
    "- Duration: {duration} days\n",
    "- Interests: {interests}\n",
    "- Budget: ${budget}\n",
    "- Travel Month: {month}\n",
    "\n",
    "Your job is to:\n",
    "1. Analyze what type of trip best suits the preferences\n",
    "2. Pick cities and experiences within the destination\n",
    "3. Build a day-by-day itinerary\n",
    "4. Add food, local tips, and travel advice\n",
    "5. Ensure the total cost does not exceed the budget\n",
    "\n",
    "Use common sense and act like a travel expert.\n",
    "'''"
   ]
  },
  {
   "cell_type": "code",
   "execution_count": null,
   "id": "3af31783",
   "metadata": {},
   "outputs": [],
   "source": [
    "# Run model inference\n",
    "response = model.generate_text(prompt=travel_prompt)\n",
    "print(response['generated_text'])"
   ]
  }
 ],
 "metadata": {
  "language_info": {
   "name": "python"
  }
 },
 "nbformat": 4,
 "nbformat_minor": 5
}
